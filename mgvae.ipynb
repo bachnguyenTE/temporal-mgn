{
  "nbformat": 4,
  "nbformat_minor": 0,
  "metadata": {
    "colab": {
      "name": "mgvae.ipynb",
      "provenance": [],
      "machine_shape": "hm",
      "authorship_tag": "ABX9TyOxYDnG7dtTwTjDeu7di1RB",
      "include_colab_link": true
    },
    "kernelspec": {
      "name": "python3",
      "display_name": "Python 3"
    },
    "language_info": {
      "name": "python"
    },
    "accelerator": "GPU"
  },
  "cells": [
    {
      "cell_type": "markdown",
      "metadata": {
        "id": "view-in-github",
        "colab_type": "text"
      },
      "source": [
        "<a href=\"https://colab.research.google.com/github/bachnguyenTE/temporal-mgn/blob/prototype-mgvae/mgvae.ipynb\" target=\"_parent\"><img src=\"https://colab.research.google.com/assets/colab-badge.svg\" alt=\"Open In Colab\"/></a>"
      ]
    },
    {
      "cell_type": "code",
      "execution_count": 3,
      "metadata": {
        "colab": {
          "base_uri": "https://localhost:8080/"
        },
        "id": "MuoLHm2oa_zC",
        "outputId": "0459e57d-3d66-4393-a399-362bb80ccadd"
      },
      "outputs": [
        {
          "output_type": "stream",
          "name": "stdout",
          "text": [
            "Tue Apr  5 02:12:03 2022       \n",
            "+-----------------------------------------------------------------------------+\n",
            "| NVIDIA-SMI 460.32.03    Driver Version: 460.32.03    CUDA Version: 11.2     |\n",
            "|-------------------------------+----------------------+----------------------+\n",
            "| GPU  Name        Persistence-M| Bus-Id        Disp.A | Volatile Uncorr. ECC |\n",
            "| Fan  Temp  Perf  Pwr:Usage/Cap|         Memory-Usage | GPU-Util  Compute M. |\n",
            "|                               |                      |               MIG M. |\n",
            "|===============================+======================+======================|\n",
            "|   0  Tesla P100-PCIE...  Off  | 00000000:00:04.0 Off |                    0 |\n",
            "| N/A   39C    P0    28W / 250W |      2MiB / 16280MiB |      0%      Default |\n",
            "|                               |                      |                  N/A |\n",
            "+-------------------------------+----------------------+----------------------+\n",
            "                                                                               \n",
            "+-----------------------------------------------------------------------------+\n",
            "| Processes:                                                                  |\n",
            "|  GPU   GI   CI        PID   Type   Process name                  GPU Memory |\n",
            "|        ID   ID                                                   Usage      |\n",
            "|=============================================================================|\n",
            "|  No running processes found                                                 |\n",
            "+-----------------------------------------------------------------------------+\n"
          ]
        }
      ],
      "source": [
        "!nvidia-smi"
      ]
    },
    {
      "cell_type": "code",
      "source": [
        "# Arguments (inactive)\n",
        "\n",
        "# def _parse_args():\n",
        "#     parser = argparse.ArgumentParser(description = 'Temporal graph learning')\n",
        "#     parser.add_argument('--dir', '-dir', type = str, default = '.', help = 'Directory')\n",
        "#     parser.add_argument('--learning_target', '-learning_target', type = str, default = 'U0', help = 'Learning target')\n",
        "#     parser.add_argument('--name', '-name', type = str, default = 'NAME', help = 'Name')\n",
        "#     parser.add_argument('--dataset', '-dataset', type = str, default = 'ZINC_12k', help = 'ZINC')\n",
        "#     parser.add_argument('--num_epoch', '-num_epoch', type = int, default = 2048, help = 'Number of epochs')\n",
        "#     parser.add_argument('--batch_size', '-batch_size', type = int, default = 20, help = 'Batch size')\n",
        "#     parser.add_argument('--learning_rate', '-learning_rate', type = float, default = 0.001, help = 'Initial learning rate')\n",
        "#     parser.add_argument('--seed', '-s', type = int, default = 123456789, help = 'Random seed')\n",
        "#     parser.add_argument('--n_clusters', '-n_clusters', type = int, default = 2, help = 'Number of clusters')\n",
        "#     parser.add_argument('--n_levels', '-n_levels', type = int, default = 3, help = 'Number of levels of resolution')\n",
        "#     parser.add_argument('--n_layers', '-n_layers', type = int, default = 3, help = 'Number of layers of message passing')\n",
        "#     parser.add_argument('--hidden_dim', '-hidden_dim', type = int, default = 32, help = 'Hidden dimension')\n",
        "#     parser.add_argument('--z_dim', '-z_dim', type = int, default = 32, help = 'Latent dimension')\n",
        "#     parser.add_argument('--device', '-device', type = str, default = 'cpu', help = 'cuda/cpu')\n",
        "#     args = parser.parse_args()\n",
        "#     return args\n",
        "\n",
        "# args = _parse_args()\n",
        "# log_name = args.dir + \"/\" + args.name + \".log\"\n",
        "# model_name = args.dir + \"/\" + args.name + \".model\"\n",
        "# LOG = open(log_name, \"w\")"
      ],
      "metadata": {
        "id": "p70wMn16dXq-"
      },
      "execution_count": null,
      "outputs": []
    },
    {
      "cell_type": "code",
      "source": [
        "# Add this in a Google Colab cell to install the correct version of Pytorch Geometric.\n",
        "%%capture\n",
        "import torch\n",
        "\n",
        "def format_pytorch_version(version):\n",
        "  return version.split('+')[0]\n",
        "\n",
        "TORCH_version = torch.__version__\n",
        "TORCH = format_pytorch_version(TORCH_version)\n",
        "\n",
        "def format_cuda_version(version):\n",
        "  return 'cu' + version.replace('.', '')\n",
        "\n",
        "CUDA_version = torch.version.cuda\n",
        "CUDA = format_cuda_version(CUDA_version)\n",
        "\n",
        "!pip install torch-scatter     -f https://pytorch-geometric.com/whl/torch-{TORCH}+{CUDA}.html\n",
        "!pip install torch-sparse      -f https://pytorch-geometric.com/whl/torch-{TORCH}+{CUDA}.html\n",
        "!pip install torch-cluster     -f https://pytorch-geometric.com/whl/torch-{TORCH}+{CUDA}.html\n",
        "!pip install torch-spline-conv -f https://pytorch-geometric.com/whl/torch-{TORCH}+{CUDA}.html\n",
        "!pip install torch-geometric "
      ],
      "metadata": {
        "id": "izcOBzw6bCDv"
      },
      "execution_count": 4,
      "outputs": []
    },
    {
      "cell_type": "code",
      "source": [
        "# Library import (legacy MGVAE)\n",
        "import argparse\n",
        "import torch\n",
        "import torch.nn as nn\n",
        "import torch.nn.functional as F\n",
        "from torch.optim import Adam, Adagrad\n",
        "import pickle\n",
        "from torch import optim\n",
        "from torch.utils.data import DataLoader\n",
        "import numpy as np\n",
        "import os\n",
        "import time\n",
        "import argparse\n",
        "\n",
        "# Library import (pytorch-geometric)\n",
        "import torch_geometric \n",
        "import torch_geometric.transforms as T\n",
        "from torch_geometric.loader import DataLoader, ClusterLoader, ClusterData\n",
        "from torch_geometric.nn import MessagePassing, GCNConv\n",
        "\n",
        "###############################################################\n",
        "# NOTE: \n",
        "# We preferably define our own clustering \n",
        "# procedure, rather than using the built-in ClusterLoader\n",
        "# since there is a chance using ClusterLoader will not\n",
        "# make the entire net differentiable (separate data process),\n",
        "# and the net may no longer be isomorphic invariant.\n",
        "###############################################################"
      ],
      "metadata": {
        "id": "4Bw6mX9dbcwf"
      },
      "execution_count": 11,
      "outputs": []
    },
    {
      "cell_type": "code",
      "source": [
        "# Fix all random seed\n",
        "torch_geometric.seed.seed_everything(69420)\n",
        "\n",
        "# Set device to gpu\n",
        "device = torch.device('cuda')"
      ],
      "metadata": {
        "id": "PjiJCDQ5h_ww"
      },
      "execution_count": 10,
      "outputs": []
    },
    {
      "cell_type": "code",
      "source": [
        "# Multiresolution Graph Network\n",
        "class MGN(nn.Module):\n",
        "    "
      ],
      "metadata": {
        "id": "0unZS5oei86U"
      },
      "execution_count": null,
      "outputs": []
    }
  ]
}